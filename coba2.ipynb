{
 "cells": [
  {
   "cell_type": "markdown",
   "metadata": {},
   "source": [
    "# Metode Numerik"
   ]
  },
  {
   "cell_type": "code",
   "execution_count": 2,
   "metadata": {},
   "outputs": [],
   "source": [
    "from __future__ import print_function\n",
    "\n",
    "%matplotlib inline\n",
    "import numpy\n",
    "import matplotlib.pyplot as plt"
   ]
  },
  {
   "cell_type": "markdown",
   "metadata": {},
   "source": [
    "## Sumber Kesalahan\n",
    "\n",
    "Kesalahan dapat berasal dari banyak sumber saat menggunakan menerapkan metode numerik:\n",
    "\n",
    "- Model / Data Kesalahan\n",
    "- Kesalahan Diskretisasi\n",
    "- Kesalahan Konvergensi\n",
    "- Kesalahan Floating Point\n",
    "\n",
    "Tujuan: Kategorikan dan memahami setiap jenis kesalahan dan mengeksplorasi beberapa pendekatan sederhana untuk menganalisis kesalahan."
   ]
  },
  {
   "cell_type": "markdown",
   "metadata": {},
   "source": [
    "## Model dan Kesalahan Data\n",
    "\n",
    "Kesalahan dalam formulasi fundamental\n",
    "\n",
    "- Lotka-Volterra - kelinci fraksional, tidak ada kepunahan, dll.\n",
    "- Kesalahan Data - Ketidaktepatan dalam pengukuran atau ketidakpastian dalam parameter\n",
    "\n",
    "Unfortunatley kita tidak dapat mengontrol model dan kesalahan data secara langsung tetapi kita dapat menggunakan metode yang mungkin lebih kuat dalam arti awal jenis kesalahan."
   ]
  },
  {
   "cell_type": "markdown",
   "metadata": {},
   "source": [
    "## Diskritisasi atau Kesalahan Pemotongan\n",
    "\n",
    "Kesalahan yang timbul dari mendekati fungsi dengan fungsi yang lebih sederhana, misalnya Menggunakan perkiraan  $sin(x)≈x $ ketika $|x|≈0 $."
   ]
  },
  {
   "cell_type": "markdown",
   "metadata": {},
   "source": [
    "## Kesalahan Floating Point\n",
    "\n",
    "Kesalahan yang timbul dari mendekati angka riil dengan angka presisi terbatas dan aritmatika."
   ]
  },
  {
   "cell_type": "markdown",
   "metadata": {},
   "source": [
    "## Kesalahan Konvergensi\n",
    "\n",
    "Dalam beberapa kasus algoritma dikembangkan yang akan mengambil pendekatan saat ini dan kemudian menemukan peningkatan pada perkiraan saat ini. Dalam beberapa kasus kesalahan yang dihasilkan dalam setiap langkah indivudal dapat mengumpulkan atau menjadi diperbesar setelah mengulangi algoritma beberapa kali."
   ]
  },
  {
   "cell_type": "markdown",
   "metadata": {},
   "source": [
    "## Definisi Dasar\n",
    "\n",
    "Sebelum menjelajahi berbagai jenis kesalahan, penting untuk terlebih dahulu menentukan cara kesalahan diukur. Mengingat nilai sebenarnya dari fungsi  f  dan solusi aproksimasi  F  didefinisikan:\n",
    "\n",
    "Kesalahan mutlak: $$e = |f-F|$$\n",
    "<br> Kesalahan relatif: $$r = \\frac{e}{|f|} = \\frac{f-F}{|f|} $$"
   ]
  },
  {
   "cell_type": "markdown",
   "metadata": {},
   "source": [
    "## Presisi Desimal\n",
    "\n",
    "Definisi kesalahan relatif ini memberikan perkiraan yang nyaman untuk jumlah digit presisi desimal  $p$  \n",
    "<br>kesalahan relatif  $r$, presisi $p$ adalah bilangan bulat terbesar sehingga  $ r \\geq 5 x 10^{-p} $\n",
    "\n",
    "<br>example\n",
    "- if $r = 0.001 < 5×10^{-3}$ has $p = 3$ significant digits\n",
    "- if $r = 0.006 < 5×10^{−2}$ has $p = 2$ significant digits\n",
    "<br>(because this error would cause rounding up)"
   ]
  },
  {
   "cell_type": "markdown",
   "metadata": {},
   "source": [
    "## Contoh\n",
    "\n",
    "ambil $$f = e^1, \\ F = 2.71$$ "
   ]
  },
  {
   "cell_type": "code",
   "execution_count": 6,
   "metadata": {},
   "outputs": [
    {
     "name": "stdout",
     "output_type": "stream",
     "text": [
      "f = 2.718281828459045\n",
      "F = 2.71\n",
      "Kesalahan Absolut : 0.008281828459045126\n",
      "Kesalahan Relatif : 0.0030467144253912685\n",
      "Presisi Desimal   : 3\n"
     ]
    }
   ],
   "source": [
    "f = numpy.exp(1.)\n",
    "F = 2.71\n",
    "e = numpy.abs(f - F)\n",
    "r = e/numpy.abs(f)\n",
    "p = int(-numpy.log10(r/5.))\n",
    "print('f = {}'.format(f))\n",
    "print('F = {}'.format(F))\n",
    "\n",
    "print('Kesalahan Absolut : {}'.format(e))\n",
    "print('Kesalahan Relatif : {}'.format(r))\n",
    "print('Presisi Desimal   : {}'.format(p))"
   ]
  },
  {
   "cell_type": "markdown",
   "metadata": {},
   "source": [
    "## Notasi Big-O\n",
    "\n",
    "Dalam banyak situasi, perkiraan akan memiliki parameter yang terkait dengannya, dan nilai parameter sering dipilih untuk memastikan bahwa kesalahan masuk akal dalam situasi tertentu. Dalam keadaan seperti itu kita sering ingin tahu dampaknya pada kesalahan jika kita mengubah nilai parameter. Hal ini mengarah pada definisi notasi Big-O: $$f(x)=O(g(x)) \\ \\ as   \\ \\ x→a$$\n",
    "jika dan hanya jika\n",
    "$$|f(x)|≤M|g(x)| \\ \\ as\\ \\ |x−a|<δ \\ \\ where\\ \\ M,a>0.$$\n",
    " \n",
    "Dalam prakteknya kita menggunakan notasi Big-O untuk mengatakan sesuatu tentang bagaimana istilah-istilah yang mungkin telah kita tinggalkan dari seri mungkin berperilaku. Kami melihat contoh sebelumnya dengan perkiraan seri Taylor."
   ]
  },
  {
   "cell_type": "markdown",
   "metadata": {},
   "source": [
    "### contoh\n",
    "diberikan $f(x)=sinx$ dengan $x_0=0$, maka polinomial Taylor (Pemotongan deret Taylor) dari $f(x)$ diperluas di sekitar $x_0=0$ <br>is\n",
    "$$T_N(x)= \\sum_{n=0}^{N}(−1)^n \\frac{x^{2n+1}}{(2n+1)!}$$\n",
    "\n",
    "Untuk $N=2$, kita dapat tuliskan $f(x)$ sebagai<br>\n",
    "<br>$$f(x)= x−\\frac{x^3}{6}+\\frac{x^5}{120}+O(x^7)$$\n",
    "\n",
    "Ini menjadi lebih berguna ketika kita melihat ini menggunakan $x=x_0+ \\Delta x$ :\n",
    "$$f(x)=\\Delta x − \\frac{\\Delta x^3}{6} + \\frac{\\Delta x^5}{120} + O(\\Delta x^7)$$\n",
    " \n"
   ]
  },
  {
   "cell_type": "markdown",
   "metadata": {},
   "source": [
    "#### Kita juga dapat mengembangkan aturan untuk propagasi kesalahan berdasarkan notasi Big-O:\n",
    "\n",
    "Secara umum, ada dua teorema yang tidak memerlukan bukti dan tahan ketika nilai x besar:\n",
    "\n",
    "Ambil\n",
    "\n",
    "\\begin{align}\n",
    "f(x) &= p(x) + O(x^n) \\\\\n",
    "g(x) &= q(x) + O(x^m) \\\\\n",
    "k &= max(n,m)\n",
    "\\end{align}\n",
    " \n",
    "maka\n",
    "$$f+g=p+q+O(x^k)$$\n",
    " \n",
    "dan\n",
    "$$f \\cdot g = p \\cdot q + pO(x^m) + qO(x^n) + O(x^{n+m}) = p \\cdot q + O(x^{n+m})$$\n",
    " \n",
    "Di sisi lain, jika kita tertarik pada nilai-nilai kecil x, katakanlah $\\Delta x$, ekspresi di atas dapat dimodifikasi sebagai berikut:\n",
    "\n",
    "\\begin{align}\n",
    "f(\\Delta x) &= p(\\Delta x)+O(\\Delta x^n) \\\\\n",
    "g(\\Delta x) &= q(\\Delta x)+O(\\Delta x^m) \\\\\n",
    "r &= min(n,m)\n",
    "\\end{align}\n",
    " \n",
    "maka\n",
    "$$f+g=p+q+O(\\Delta x^r)$$\n",
    " \n",
    "dan\n",
    "\\begin{align}\n",
    "    f \\cdot g &= p \\cdot q + p \\cdot O(\\Delta x^m) + q \\cdot O(\\Delta x^n)+O(\\Delta x^{n+m}) \\\\ &=p \\cdot q + O(\\Delta x^r)\n",
    "\\end{align}\n"
   ]
  },
  {
   "cell_type": "markdown",
   "metadata": {},
   "source": [
    "__Catatan:__ Dalam hal ini kita mengira bahwa setidaknya polinomial dengan  k=max(n,m)  memiliki bentuk sebagai berikut: \n",
    "$$p(\\Delta x) = 1 + p_1\\Delta x + p_2\\Delta x2 + …$$\n",
    "atau\n",
    "$$q(\\Delta x) = 1 + q_1\\Delta x + q_2\\Delta x2 + …$$\n",
    "\n",
    "sehingga terdapat suku $\\mathcal{O}(1)$ yang menjamin keberadaan dari  $\\mathcal{O}(\\Delta x^r)$  dalam hasil final.\n",
    "\n",
    "\n"
   ]
  },
  {
   "cell_type": "markdown",
   "metadata": {},
   "source": [
    "Untuk mendapatkan rasa mengapa kita paling peduli tentang kekuatan pada $\\Delta x$ ketika mempertimbangkan konvergensi angka berikut menunjukkan bagaimana kekuatan yang berbeda pada tingkat konvergensi dapat mempengaruhi seberapa cepat kita bertemu dengan solusi kami. Perhatikan bahwa di sini kita merencanakan data yang sama dua cara yang berbeda. Merencanakan kesalahan sebagai fungsi $\\Delta x$ adalah cara umum untuk menunjukkan bahwa metode numerik melakukan apa yang kita harapkan dan menunjukkan perilaku konvergensi yang benar. Karena kesalahan bisa menjadi kecil dengan cepat sangat umum untuk merencanakan plot semacam ini pada skala log-log untuk dengan mudah memvisualisasikan hasilnya. Perhatikan bahwa jika metode benar-benar dari $n$ bahwa mereka akan menjadi fungsi linier di ruang log-log dengan kemiringan $n$."
   ]
  },
  {
   "cell_type": "markdown",
   "metadata": {},
   "source": [
    "Perilaku kesalahan sebagai fungsi $\\Delta x$"
   ]
  },
  {
   "cell_type": "code",
   "execution_count": 7,
   "metadata": {},
   "outputs": [
    {
     "data": {
      "image/png": "[encoded data removed]",
      "text/plain": [
       "<Figure size 864x288 with 2 Axes>"
      ]
     },
     "metadata": {
      "needs_background": "light"
     },
     "output_type": "display_data"
    }
   ],
   "source": [
    "dx = numpy.linspace(1.0, 1e-4, 100)\n",
    "\n",
    "fig = plt.figure()\n",
    "fig.set_figwidth(fig.get_figwidth() * 2.0)\n",
    "axes = []\n",
    "axes.append(fig.add_subplot(1, 2, 1))\n",
    "axes.append(fig.add_subplot(1, 2, 2))\n",
    "\n",
    "for n in range(1, 5):\n",
    "    axes[0].plot(dx, dx**n, label=\"$\\Delta x^%s$\" % n)\n",
    "    axes[1].loglog(dx, dx**n, label=\"$\\Delta x^%s$\" % n)\n",
    "\n",
    "axes[0].legend(loc=2)\n",
    "axes[1].set_xticks([10.0**(-n) for n in range(5)])\n",
    "axes[1].set_yticks([10.0**(-n) for n in range(16)])\n",
    "axes[1].legend(loc=4)\n",
    "for n in range(2):\n",
    "    axes[n].set_title(\"Growth of Error vs. $\\Delta x^n$\")\n",
    "    axes[n].set_xlabel(\"$\\Delta x$\")\n",
    "    axes[n].set_ylabel(\"Estimated Error\")\n",
    "\n",
    "plt.show()"
   ]
  },
  {
   "cell_type": "code",
   "execution_count": null,
   "metadata": {},
   "outputs": [],
   "source": []
  }
 ],
 "metadata": {
  "kernelspec": {
   "display_name": "Python 3",
   "language": "python",
   "name": "python3"
  },
  "language_info": {
   "codemirror_mode": {
    "name": "ipython",
    "version": 3
   },
   "file_extension": ".py",
   "mimetype": "text/x-python",
   "name": "python",
   "nbconvert_exporter": "python",
   "pygments_lexer": "ipython3",
   "version": "3.8.3"
  }
 },
 "nbformat": 4,
 "nbformat_minor": 4
}
