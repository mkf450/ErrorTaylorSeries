{
 "cells": [
  {
   "cell_type": "markdown",
   "metadata": {},
   "source": [
    "# Tugas 2 Metode Numerik\n",
    "<br>Nama     : Muhammad Keenan Fathurrahman\n",
    "<br>Kelas    : A\n",
    "<br>Nim      : 24060119130052\n",
    "\n",
    "<br>Buku : Richard L Burden, J Douglas Faires, 2010, Numerical Analysis, ninth edition, Brooks/Cole :\n",
    "Richard Stratton"
   ]
  },
  {
   "cell_type": "markdown",
   "metadata": {},
   "source": [
    "## A. Galat"
   ]
  },
  {
   "cell_type": "markdown",
   "metadata": {},
   "source": [
    "###### Kerjakan EXERCISE SET 1.1"
   ]
  },
  {
   "cell_type": "markdown",
   "metadata": {},
   "source": [
    "11. Find the third Taylor polynomial $P_3(x)$ for the function $f(x) = (x−1) \\space \\ln x$ about $x_0 = 1$."
   ]
  },
  {
   "cell_type": "markdown",
   "metadata": {},
   "source": [
    "Theorem 1.14 (Taylor)\n",
    "\n",
    "Suppose $f \\in C^n [a,b]$, that $f^{n+1}$ exists on $[a,b]$, and $x_0 \\in [a,b]$. For every $x \\in [a,b]$, there exists a number $\\zeta (x)$ between $x_0$ and $x$ with $f(x) = P_n(x) + R_n(x)$. \n",
    "<br>where<br> \n",
    "$P_n(x) = f(x_0) + f'(x_0)(x-x_0) + \\frac{f^n (x_0)}{2!}(x-x_0)^2 + \\ ... \\ + \\frac {f^{(n)} (x_0)}{n!}(x-x_0)^n$<br> \n",
    "\n",
    "$ = \\sum_{k=0}^{n} \\frac{f^{(k)} (x_0)}{k!} n(x-x_0)^k$<br> \n",
    "\n",
    "and $R_n(x) = \\frac{f^{n+1}(\\zeta(x))}{(n+1)!}(x-x_0)^{n+1}$"
   ]
  },
  {
   "cell_type": "markdown",
   "metadata": {},
   "source": [
    "$f'(x) = \\ln x + \\frac{x-1}{x}$ \n",
    "<br>$f^n(x) = \\frac{1}{x} + \\frac{1 \\cdot x - (x-1) \\cdot 1}{x^2} = \\frac{x + x - x + 1}{x^2} = \\frac{x + 1}{x^2}$ <br>\n",
    "\n",
    "$f^m(x) = \\frac{1 \\cdot x^2 - (x + 1) \\cdot 2x}{x^4} = \\frac{x^2 - 2x^2 - 2x}{x^4} = \\frac{-x(x+2)}{x^4} = -\\frac{x+2}{x^3}$ <br>\n",
    "\n",
    "$x_0 = 1$\n",
    "_ _ _ _ _ _ _ _ _ _ _ _ _ _ _ _ _\n",
    "\n",
    "$f(1) = 0$   $f'(1) = 0$    $f''(1) = \\frac{1}{2}$   $f'''(1) = -3$\n",
    "\n",
    "$P_3(x) = (x-1)^2 - \\frac{1}{2}(x-1)^3$"
   ]
  },
  {
   "cell_type": "code",
   "execution_count": 9,
   "metadata": {},
   "outputs": [],
   "source": [
    "from __future__ import print_function\n",
    "\n",
    "%matplotlib inline\n",
    "import numpy\n",
    "import matplotlib.pyplot as plt\n",
    "import math"
   ]
  },
  {
   "cell_type": "markdown",
   "metadata": {},
   "source": [
    "a.Use $P_3(0.5)$ to approximate $f(0.5)$. Find an upper bound for error $|f(0.5) − P_3(0.5)|$ using the\n",
    "error formula, and compare it to the actual error.\n"
   ]
  },
  {
   "cell_type": "code",
   "execution_count": 22,
   "metadata": {},
   "outputs": [],
   "source": [
    "import math\n",
    "def P3(x): \n",
    "    return (((x-1)**2)-(0.5*((x-1)**3)))\n",
    "\n",
    "def f(x):\n",
    "    return ((x-1)*(math.log(x)))\n",
    "\n",
    "def ExactError(x,y):\n",
    "    return abs(x-y)\n",
    "\n",
    "def ErrorBound(x):\n",
    "    return (1/math.factorial(4))*((2/x**3)+6/x**4)*((x-1)**4)"
   ]
  },
  {
   "cell_type": "code",
   "execution_count": 23,
   "metadata": {},
   "outputs": [
    {
     "name": "stdout",
     "output_type": "stream",
     "text": [
      "Nilai P3(0.5) adalah :  0.3125\n",
      "Nilai f(0.5) adalah :  0.34657359027997264\n",
      "Error-boundnya adalah :  0.29166666666666663\n",
      "Error-sebenarnya adalah :  0.03407359027997264\n"
     ]
    }
   ],
   "source": [
    "print(\"Nilai P3(0.5) adalah : \",P3(0.5))\n",
    "print(\"Nilai f(0.5) adalah : \",f(0.5))\n",
    "print(\"Error-boundnya adalah : \", ErrorBound(0.5))\n",
    "print(\"Error-sebenarnya adalah : \", ExactError(f(0.5),P3(0.5)))"
   ]
  },
  {
   "cell_type": "markdown",
   "metadata": {},
   "source": [
    "b. Find a bound for the error $|f(x) − P_3(x)|$ in using $P_3(x)$ to approximate $f(x)$ on the interval\n",
    "[0.5, 1.5]."
   ]
  },
  {
   "cell_type": "code",
   "execution_count": 24,
   "metadata": {},
   "outputs": [
    {
     "name": "stdout",
     "output_type": "stream",
     "text": [
      "f(x) - P3(x) <=  0.29166666666666663 on [0.5,1.5]\n"
     ]
    }
   ],
   "source": [
    "print(\"f(x) - P3(x) <= \", ErrorBound(0.5), \"on [0.5,1.5]\")"
   ]
  },
  {
   "cell_type": "markdown",
   "metadata": {},
   "source": [
    "c. Approximate $\\int_{0.5}^{1.5} f(x)\\ dx$ using $\\int_{0.5}^{1.5} P_3(x)\\ dx$\n"
   ]
  },
  {
   "cell_type": "code",
   "execution_count": 213,
   "metadata": {},
   "outputs": [
    {
     "name": "stdout",
     "output_type": "stream",
     "text": [
      "Hasil dari integral P3(x) adalah :  0.08333333333333334\n",
      "Hasil dari integral (x-1)ln(x) adalah :  0.08802039174945886\n"
     ]
    }
   ],
   "source": [
    "from scipy.integrate import quad\n",
    "\n",
    "def integrand(x):\n",
    "    return (((x-1)**2)-(0.5*((x-1)**3)))\n",
    "\n",
    "ansP3, err = quad(integrand, 0.5, 1.5)\n",
    "print (\"Hasil dari integral P3(x) adalah : \",ansP3)\n",
    "\n",
    "from scipy.integrate import quad\n",
    "\n",
    "def integrand(x):\n",
    "    return ((x-1)*(math.log(x)))\n",
    "\n",
    "ansf3, err = quad(integrand, 0.5, 1.5)\n",
    "print (\"Hasil dari integral (x-1)ln(x) adalah : \",ansf3)"
   ]
  },
  {
   "cell_type": "markdown",
   "metadata": {},
   "source": [
    "d. Find an upper bound for the error in (c) using\n",
    "$\\int_{0.5}^{1.5} R_3(x)\\ dx$, and compare the bound to the\n",
    "actual error."
   ]
  },
  {
   "cell_type": "code",
   "execution_count": 218,
   "metadata": {},
   "outputs": [
    {
     "name": "stdout",
     "output_type": "stream",
     "text": [
      "upper boundnya adalah :  0.045671683181522336\n"
     ]
    }
   ],
   "source": [
    "import numpy as np\n",
    "from scipy.integrate import quad\n",
    "\n",
    "def integrand(x):\n",
    "    return ((0.833/x**3 + 0.25/x**4)*(x-1)**4)\n",
    "\n",
    "ans, err = quad(integrand, 0.5, 1.5)\n",
    "print(\"upper boundnya adalah : \",ans)"
   ]
  },
  {
   "cell_type": "markdown",
   "metadata": {},
   "source": [
    "###### Kerjakan EXERCISE SET 1.2"
   ]
  },
  {
   "cell_type": "markdown",
   "metadata": {},
   "source": [
    "5. Use three-digit rounding arithmetic to perform the following calculations. Compute the absolute error and relative error with the exact value determined to at least five digits."
   ]
  },
  {
   "cell_type": "markdown",
   "metadata": {},
   "source": [
    " a. $133+0.921$"
   ]
  },
  {
   "cell_type": "code",
   "execution_count": 224,
   "metadata": {},
   "outputs": [
    {
     "name": "stdout",
     "output_type": "stream",
     "text": [
      "Perkiraanya adalah :  133.921\n",
      "Absolute Errornya adalah :  0.0\n",
      "Relative Errornya adalah :  0.0\n"
     ]
    }
   ],
   "source": [
    "def approx(x,y):\n",
    "    return round(x+y,3)\n",
    "\n",
    "def absError(x,y):\n",
    "    return round((approx(x,y)-(x+y)),3)\n",
    "\n",
    "def relError(x,y):\n",
    "    return round((absError(x,y)/(x+y)),4)\n",
    "\n",
    "print(\"Perkiraanya adalah : \", approx(133,0.921))\n",
    "print(\"Absolute Errornya adalah : \", absError(133,0.921))\n",
    "print(\"Relative Errornya adalah : \", relError(133,0.921))"
   ]
  },
  {
   "cell_type": "markdown",
   "metadata": {},
   "source": [
    "b. $133-0.499$"
   ]
  },
  {
   "cell_type": "code",
   "execution_count": 223,
   "metadata": {},
   "outputs": [
    {
     "name": "stdout",
     "output_type": "stream",
     "text": [
      "Perkiraanya adalah :  132.501\n",
      "Absolute Errornya adalah :  0.0\n",
      "Relative Errornya adalah :  0.0\n"
     ]
    }
   ],
   "source": [
    "def approx(x,y):\n",
    "    return round(x-y,3)\n",
    "\n",
    "def absError(x,y):\n",
    "    return abs(round((approx(x,y)-(x-y)),3))\n",
    "\n",
    "def relError(x,y):\n",
    "    return abs(round((absError(x,y)/(x+y)),4))\n",
    "\n",
    "print(\"Perkiraanya adalah : \", approx(133,0.499))\n",
    "print(\"Absolute Errornya adalah : \", absError(133,0.499))\n",
    "print(\"Relative Errornya adalah : \", relError(133,0.499))"
   ]
  },
  {
   "cell_type": "markdown",
   "metadata": {},
   "source": [
    "c. $(121-0.327)-119$"
   ]
  },
  {
   "cell_type": "code",
   "execution_count": 222,
   "metadata": {},
   "outputs": [
    {
     "name": "stdout",
     "output_type": "stream",
     "text": [
      "Perkiraanya adalah :  1.673\n",
      "Absolute Errornya adalah :  -0.0\n",
      "Relative Errornya adalah :  -0.0\n"
     ]
    }
   ],
   "source": [
    "def approx(x,y):\n",
    "    return round(x-y,3)\n",
    "\n",
    "def absError(x,y):\n",
    "    return round((approx(x,y)-(x-y)),3)\n",
    "\n",
    "def relError(x,y):\n",
    "    return round((absError(x,y)/(x-y)),4)\n",
    "\n",
    "print(\"Perkiraanya adalah : \", approx(121,119+0.327))\n",
    "print(\"Absolute Errornya adalah : \", absError(121,119+0.327))\n",
    "print(\"Relative Errornya adalah : \", relError(121,119+0.327))"
   ]
  },
  {
   "cell_type": "markdown",
   "metadata": {},
   "source": [
    "d. $(121-119)-0.327$"
   ]
  },
  {
   "cell_type": "code",
   "execution_count": 229,
   "metadata": {},
   "outputs": [
    {
     "name": "stdout",
     "output_type": "stream",
     "text": [
      "Perkiraanya adalah :  1.673\n",
      "Absolute Errornya adalah :  0.0\n",
      "Relative Errornya adalah :  0.0\n"
     ]
    }
   ],
   "source": [
    "def approx(x,y):\n",
    "    return round(x-y,3)\n",
    "\n",
    "def absError(x,y):\n",
    "    return abs(round((approx(x,y)-(x-y)),5))\n",
    "\n",
    "def relError(x,y):\n",
    "    return abs(round((absError(x,y)/(x-y)),5))\n",
    "\n",
    "print(\"Perkiraanya adalah : \", approx(121,119+0.327))\n",
    "print(\"Absolute Errornya adalah : \", absError(121,119+0.327))\n",
    "print(\"Relative Errornya adalah : \", relError(121,119+0.327))"
   ]
  },
  {
   "cell_type": "markdown",
   "metadata": {},
   "source": [
    "e. $\\frac{\\frac{13}{14}\\ -\\ \\frac{6}{7}}{2e\\ -\\ 5.4}$"
   ]
  },
  {
   "cell_type": "code",
   "execution_count": 228,
   "metadata": {},
   "outputs": [
    {
     "name": "stdout",
     "output_type": "stream",
     "text": [
      "Perkiraanya adalah :  1.786\n",
      "Absolute Errornya adalah :  0.00029\n",
      "Relative Errornya adalah :  0.00016\n"
     ]
    }
   ],
   "source": [
    "def approx(x,y):\n",
    "    return round(x/y,3)\n",
    "\n",
    "def absError(x,y):\n",
    "    return round(abs(approx(x,y)-(x/y)),5)\n",
    "\n",
    "def relError(x,y):\n",
    "    return round((absError(x,y)/(x/y)),5)\n",
    "\n",
    "print(\"Perkiraanya adalah : \", approx((13/14)-(6/7), (2*2.72 - 5.4)))\n",
    "print(\"Absolute Errornya adalah : \", absError((13/14)-(6/7), (2*2.72 - 5.4)))\n",
    "print(\"Relative Errornya adalah : \", relError((13/14)-(6/7), (2*2.72 - 5.4)))"
   ]
  },
  {
   "cell_type": "markdown",
   "metadata": {},
   "source": [
    "f. $-10\\pi + 6e - \\frac{3}{62} $"
   ]
  },
  {
   "cell_type": "code",
   "execution_count": 232,
   "metadata": {},
   "outputs": [
    {
     "name": "stdout",
     "output_type": "stream",
     "text": [
      "Perkiraanya adalah :  -15.157\n",
      "Absolute Errornya adalah :  0.0\n",
      "Relative Errornya adalah :  0.0\n"
     ]
    }
   ],
   "source": [
    "def approx(x,y):\n",
    "    return round(x-y,3)\n",
    "\n",
    "def absError(x,y):\n",
    "    return round(abs(approx(x,y)-(x-y)),4)\n",
    "\n",
    "def relError(x,y):\n",
    "    return abs(round((absError(x,y)/(x-y)),5))\n",
    "\n",
    "print(\"Perkiraanya adalah : \", approx((-10)*(22/7)+(6*2.72),(3/62)))\n",
    "print(\"Absolute Errornya adalah : \", absError((-10)*(22/7)+(6*2.72),(3/62)))\n",
    "print(\"Relative Errornya adalah : \", relError((-10)*(22/7)+(6*2.72),(3/62)))"
   ]
  },
  {
   "cell_type": "markdown",
   "metadata": {},
   "source": [
    "g. $(\\frac{2}{9})\\ \\cdot\\ (\\frac{9}{7}) $"
   ]
  },
  {
   "cell_type": "code",
   "execution_count": 233,
   "metadata": {
    "scrolled": true
   },
   "outputs": [
    {
     "name": "stdout",
     "output_type": "stream",
     "text": [
      "Perkiraanya adalah :  0.286\n",
      "Absolute Errornya adalah :  0.00029\n",
      "Relative Errornya adalah :  0.00102\n"
     ]
    }
   ],
   "source": [
    "def approx(x,y):\n",
    "    return round(x*y,3)\n",
    "\n",
    "def absError(x,y):\n",
    "    return round(abs(approx(x,y)-(x*y)),5)\n",
    "\n",
    "def relError(x,y):\n",
    "    return abs(round((absError(x,y)/(x*y)),5))\n",
    "\n",
    "print(\"Perkiraanya adalah : \", approx((2/9),(9/7)))\n",
    "print(\"Absolute Errornya adalah : \", absError((2/9),(9/7)))\n",
    "print(\"Relative Errornya adalah : \", relError((2/9),(9/7)))"
   ]
  },
  {
   "cell_type": "markdown",
   "metadata": {},
   "source": [
    "h. $\\frac{\\pi - \\frac{22}{7}}{\\frac{1}{17}}$ "
   ]
  },
  {
   "cell_type": "code",
   "execution_count": 236,
   "metadata": {
    "scrolled": false
   },
   "outputs": [
    {
     "name": "stdout",
     "output_type": "stream",
     "text": [
      "Perkiraanya adalah :  0.049\n",
      "Absolute Errornya adalah :  0.09757\n",
      "Relative Errornya adalah :  2.00879\n"
     ]
    }
   ],
   "source": [
    "def approx(x,y):\n",
    "    return abs(round(x/y,3))\n",
    "\n",
    "def absError(x,y):\n",
    "    return round(abs(approx(x,y)-(x/y)),5)\n",
    "\n",
    "def relError(x,y):\n",
    "    return abs(round((absError(x,y)/(x/y)),5))\n",
    "\n",
    "print(\"Perkiraanya adalah : \", approx(3.14-(22/7),(1/17)))\n",
    "print(\"Absolute Errornya adalah : \", absError(3.14-(22/7),(1/17)))\n",
    "print(\"Relative Errornya adalah : \", relError(3.14-(22/7),(1/17)))"
   ]
  },
  {
   "cell_type": "markdown",
   "metadata": {},
   "source": [
    "6. Repeat Exercise 5 using four-digit rounding arithmetic."
   ]
  },
  {
   "cell_type": "markdown",
   "metadata": {},
   "source": [
    " a. $133+0.921$"
   ]
  },
  {
   "cell_type": "code",
   "execution_count": 238,
   "metadata": {},
   "outputs": [
    {
     "name": "stdout",
     "output_type": "stream",
     "text": [
      "Perkiraanya adalah :  133.921\n",
      "Absolute Errornya adalah :  0.0\n",
      "Relative Errornya adalah :  0.0\n"
     ]
    }
   ],
   "source": [
    "def approx(x,y):\n",
    "    return round(x+y,4)\n",
    "\n",
    "def absError(x,y):\n",
    "    return abs(round((approx(x,y)-(x+y)),3))\n",
    "\n",
    "def relError(x,y):\n",
    "    return abs(round((absError(x,y)/(x+y)),4))\n",
    "\n",
    "print(\"Perkiraanya adalah : \", approx(133,0.921))\n",
    "print(\"Absolute Errornya adalah : \", absError(133,0.921))\n",
    "print(\"Relative Errornya adalah : \", relError(133,0.921))"
   ]
  },
  {
   "cell_type": "markdown",
   "metadata": {},
   "source": [
    "b. $133-0.499$"
   ]
  },
  {
   "cell_type": "code",
   "execution_count": 239,
   "metadata": {},
   "outputs": [
    {
     "name": "stdout",
     "output_type": "stream",
     "text": [
      "Perkiraanya adalah :  132.501\n",
      "Absolute Errornya adalah :  0.0\n",
      "Relative Errornya adalah :  0.0\n"
     ]
    }
   ],
   "source": [
    "def approx(x,y):\n",
    "    return round(x-y,4)\n",
    "\n",
    "def absError(x,y):\n",
    "    return abs(round((approx(x,y)-(x-y)),3))\n",
    "\n",
    "def relError(x,y):\n",
    "    return abs(round((absError(x,y)/(x-y)),4))\n",
    "\n",
    "print(\"Perkiraanya adalah : \", approx(133,0.499))\n",
    "print(\"Absolute Errornya adalah : \", absError(133,0.499))\n",
    "print(\"Relative Errornya adalah : \", relError(133,0.499))"
   ]
  },
  {
   "cell_type": "markdown",
   "metadata": {},
   "source": [
    "c. $(121-0.327)-119$"
   ]
  },
  {
   "cell_type": "code",
   "execution_count": 243,
   "metadata": {},
   "outputs": [
    {
     "name": "stdout",
     "output_type": "stream",
     "text": [
      "Perkiraanya adalah :  1.673\n",
      "Absolute Errornya adalah :  0.0\n",
      "Relative Errornya adalah :  0.0\n"
     ]
    }
   ],
   "source": [
    "def approx(x,y):\n",
    "    return round(x-y,4)\n",
    "\n",
    "def absError(x,y):\n",
    "    return abs(round((approx(x,y)-(x-y)),3))\n",
    "\n",
    "def relError(x,y):\n",
    "    return abs(round((absError(x,y)/(x-y)),4))\n",
    "\n",
    "print(\"Perkiraanya adalah : \", approx(121,119+0.327))\n",
    "print(\"Absolute Errornya adalah : \", absError(121,119+0.327))\n",
    "print(\"Relative Errornya adalah : \", relError(121,119+0.327))"
   ]
  },
  {
   "cell_type": "markdown",
   "metadata": {},
   "source": [
    "d. $(121-119)-0.327$"
   ]
  },
  {
   "cell_type": "code",
   "execution_count": 165,
   "metadata": {},
   "outputs": [
    {
     "name": "stdout",
     "output_type": "stream",
     "text": [
      "Perkiraanya adalah :  1.673\n",
      "Absolute Errornya adalah :  0.0\n",
      "Relative Errornya adalah :  0.0\n"
     ]
    }
   ],
   "source": [
    "def approx(x,y):\n",
    "    return round(x-y,4)\n",
    "\n",
    "def absError(x,y):\n",
    "    return abs(round((approx(x,y)-(x-y)),3))\n",
    "\n",
    "def relError(x,y):\n",
    "    return abs(round((absError(x,y)/(x-y)),4))\n",
    "\n",
    "print(\"Perkiraanya adalah : \", approx(121,119+0.327))\n",
    "print(\"Absolute Errornya adalah : \", absError(121,119+0.327))\n",
    "print(\"Relative Errornya adalah : \", relError(121,119+0.327))"
   ]
  },
  {
   "cell_type": "markdown",
   "metadata": {},
   "source": [
    "e. $\\frac{\\frac{13}{14}\\ -\\ \\frac{6}{7}}{2e\\ -\\ 5.4}$"
   ]
  },
  {
   "cell_type": "code",
   "execution_count": 247,
   "metadata": {},
   "outputs": [
    {
     "name": "stdout",
     "output_type": "stream",
     "text": [
      "Perkiraanya adalah :  1.7857\n",
      "Absolute Errornya adalah :  1e-05\n",
      "Relative Errornya adalah :  1e-05\n"
     ]
    }
   ],
   "source": [
    "def approx(x,y):\n",
    "    return round(x/y,4)\n",
    "\n",
    "def absError(x,y):\n",
    "    return round(abs(approx(x,y)-(x/y)),5)\n",
    "\n",
    "def relError(x,y):\n",
    "    return round((absError(x,y)/(x/y)),5)\n",
    "\n",
    "print(\"Perkiraanya adalah : \", approx((13/14)-(6/7), (2*2.72 - 5.4)))\n",
    "print(\"Absolute Errornya adalah : \", absError((13/14)-(6/7), (2*2.72 - 5.4)))\n",
    "print(\"Relative Errornya adalah : \", relError((13/14)-(6/7), (2*2.72 - 5.4)))"
   ]
  },
  {
   "cell_type": "markdown",
   "metadata": {},
   "source": [
    "f. $-10\\pi + 6e - \\frac{3}{62} $"
   ]
  },
  {
   "cell_type": "code",
   "execution_count": 246,
   "metadata": {},
   "outputs": [
    {
     "name": "stdout",
     "output_type": "stream",
     "text": [
      "Perkiraanya adalah :  -15.157\n",
      "Absolute Errornya adalah :  0.0\n",
      "Relative Errornya adalah :  0.0\n"
     ]
    }
   ],
   "source": [
    "def approx(x,y):\n",
    "    return round(x-y,4)\n",
    "\n",
    "def absError(x,y):\n",
    "    return round(abs(approx(x,y)-(x-y)),4)\n",
    "\n",
    "def relError(x,y):\n",
    "    return abs(round((absError(x,y)/(x-y)),5))\n",
    "\n",
    "print(\"Perkiraanya adalah : \", approx((-10)*(22/7)+(6*2.72),(3/62)))\n",
    "print(\"Absolute Errornya adalah : \", absError((-10)*(22/7)+(6*2.72),(3/62)))\n",
    "print(\"Relative Errornya adalah : \", relError((-10)*(22/7)+(6*2.72),(3/62)))"
   ]
  },
  {
   "cell_type": "markdown",
   "metadata": {},
   "source": [
    "g. $(\\frac{2}{9})\\ \\cdot\\ (\\frac{9}{7}) $"
   ]
  },
  {
   "cell_type": "code",
   "execution_count": 248,
   "metadata": {},
   "outputs": [
    {
     "name": "stdout",
     "output_type": "stream",
     "text": [
      "Perkiraanya adalah :  0.2857\n",
      "Absolute Errornya adalah :  1e-05\n",
      "Relative Errornya adalah :  4e-05\n"
     ]
    }
   ],
   "source": [
    "def approx(x,y):\n",
    "    return round(x*y,4)\n",
    "\n",
    "def absError(x,y):\n",
    "    return round(abs(approx(x,y)-(x*y)),5)\n",
    "\n",
    "def relError(x,y):\n",
    "    return abs(round((absError(x,y)/(x*y)),5))\n",
    "\n",
    "print(\"Perkiraanya adalah : \", approx((2/9),(9/7)))\n",
    "print(\"Absolute Errornya adalah : \", absError((2/9),(9/7)))\n",
    "print(\"Relative Errornya adalah : \", relError((2/9),(9/7)))"
   ]
  },
  {
   "cell_type": "markdown",
   "metadata": {},
   "source": [
    "h. $\\frac{\\pi - \\frac{22}{7}}{\\frac{1}{17}}$ "
   ]
  },
  {
   "cell_type": "code",
   "execution_count": 249,
   "metadata": {},
   "outputs": [
    {
     "name": "stdout",
     "output_type": "stream",
     "text": [
      "Perkiraanya adalah :  0.0231\n",
      "Absolute Errornya adalah :  0.04617\n",
      "Relative Errornya adalah :  2.00118\n"
     ]
    }
   ],
   "source": [
    "def approx(x,y):\n",
    "    return abs(round(x/y,4))\n",
    "\n",
    "def absError(x,y):\n",
    "    return round(abs(approx(x,y)-(x/y)),5)\n",
    "\n",
    "def relError(x,y):\n",
    "    return abs(round((absError(x,y)/(x/y)),5))\n",
    "\n",
    "print(\"Perkiraanya adalah : \", approx(3.1415-(22/7),(1/17)))\n",
    "print(\"Absolute Errornya adalah : \", absError(3.1415-(22/7),(1/17)))\n",
    "print(\"Relative Errornya adalah : \", relError(3.1415-(22/7),(1/17)))"
   ]
  },
  {
   "cell_type": "markdown",
   "metadata": {},
   "source": [
    "## B. Akar Persamaan Nonlinier"
   ]
  },
  {
   "cell_type": "markdown",
   "metadata": {},
   "source": [
    "###### Kerjakan EXERCISE SET 2.1"
   ]
  },
  {
   "cell_type": "markdown",
   "metadata": {},
   "source": [
    "7. a. Sketch the graphs of $y = x$ and $y = 2 sin x$.\n",
    "   <br>b. Use the Bisection method to find an approximation to within $10^{−5}$ to the first positive value of $x$ with $x = 2 sin x$."
   ]
  },
  {
   "cell_type": "code",
   "execution_count": 293,
   "metadata": {
    "scrolled": true
   },
   "outputs": [
    {
     "data": {
      "image/png": "[encoded data removed]",
      "text/plain": [
       "<Figure size 432x288 with 1 Axes>"
      ]
     },
     "metadata": {
      "needs_background": "light"
     },
     "output_type": "display_data"
    }
   ],
   "source": [
    "import matplotlib.pyplot as plot \n",
    "import numpy as np \n",
    "  \n",
    "# setting the x - coordinates \n",
    "#x = np.arange(0, 2*(np.pi), 0.1) \n",
    "# setting the corresponding y - coordinates \n",
    "y1 = 2*(np.sin(x)) \n",
    "y2 = x\n",
    "\n",
    "# potting the points\n",
    "plt.plot(x, y1) \n",
    "plt.plot(x, y2)\n",
    "\n",
    "# function to show the plot \n",
    "plt.show() "
   ]
  },
  {
   "cell_type": "markdown",
   "metadata": {},
   "source": [
    "   b. Using [1.5, 2] from part (a) gives $p_{16}$ = 1.89550018."
   ]
  },
  {
   "cell_type": "code",
   "execution_count": 308,
   "metadata": {},
   "outputs": [
    {
     "name": "stdout",
     "output_type": "stream",
     "text": [
      "Metode biseksi memberikan akar x pada :  -2.986545553430915\n"
     ]
    }
   ],
   "source": [
    "%matplotlib inline\n",
    "import matplotlib.pyplot as plt \n",
    "import numpy as np\n",
    "from scipy.optimize import fsolve\n",
    "\n",
    "def bisection(a,b,tol):\n",
    "    da = a\n",
    "    db =b\n",
    "    while(np.abs(da-db)>=tol):\n",
    "        c = (da+db)/2.0\n",
    "        prod = f(da)*f(c)\n",
    "        if (prod>tol):\n",
    "            da = c\n",
    "        else :\n",
    "            if(prod<tol):\n",
    "                db = c\n",
    "    return c\n",
    "\n",
    "answer = bisection(-5,5,1e-8)\n",
    "print(\"Metode biseksi memberikan akar x pada : \",answer)"
   ]
  },
  {
   "cell_type": "markdown",
   "metadata": {},
   "source": [
    "###### Kerjakan EXERCISE SET 2.3"
   ]
  },
  {
   "cell_type": "markdown",
   "metadata": {},
   "source": [
    " 6. Use Newton’s method to find solutions accurate to within 10−5 for the following problems.\n",
    "    <br>a. $e^x + 2^{−x} + 2 cos x − 6 = 0$ for $1 \\leq x \\leq 2$ "
   ]
  },
  {
   "cell_type": "markdown",
   "metadata": {},
   "source": [
    "$|f(x) = e^x + 2^{-x} + 2 cos x - 6 |$\n",
    "<br>$f_1(x) = \\frac{d}{dx}(f(x))$\n",
    "<br>$x_0 = 1.5$\n",
    "<br>$r_n(x) = x - \\frac{f(x)}{f_1(x)}$"
   ]
  },
  {
   "cell_type": "code",
   "execution_count": 291,
   "metadata": {},
   "outputs": [
    {
     "name": "stdout",
     "output_type": "stream",
     "text": [
      "x1 adalah :  1.953733629450145\n",
      "x2 adalah :  1.8395006739336681\n",
      "x3 adalah :  1.8277346687840972\n",
      "x4 adalah :  1.827628825578156\n",
      "x5 adalah :  1.8276289178329614\n"
     ]
    }
   ],
   "source": [
    "import math\n",
    "\n",
    "def f(x):\n",
    "    return (2.72**x + 2**(-x) + 2*math.cos(x) - 6)\n",
    "\n",
    "def f1(x):\n",
    "    return (-2*math.sin(x) + (2.72)**x - (math.log(2)/2**x))\n",
    "\n",
    "def rn(x):\n",
    "    return (x-(f(x)/f1(x)))\n",
    "\n",
    "x0 = 1.5\n",
    "x1 = rn(x0)\n",
    "x2 = rn(x1)\n",
    "x3 = rn(x2)\n",
    "x4 = rn(x3)\n",
    "x5 = rn(x4)\n",
    "\n",
    "print(\"x1 adalah : \", x1)\n",
    "print(\"x2 adalah : \", x2)\n",
    "print(\"x3 adalah : \", x3)\n",
    "print(\"x4 adalah : \", x4)\n",
    "print(\"x5 adalah : \", x5)"
   ]
  },
  {
   "cell_type": "markdown",
   "metadata": {},
   "source": [
    "7. Repeat Exercise 5 using the Secant method.\n",
    "    <br>a. $x^3 − 2x^2 − 5 = 0$, [1, 4]"
   ]
  },
  {
   "cell_type": "markdown",
   "metadata": {},
   "source": [
    "Using the endpoints of the intervals as $p_0$ and $p_1$, we have: $p_{11} = 2.69065$"
   ]
  },
  {
   "cell_type": "code",
   "execution_count": null,
   "metadata": {},
   "outputs": [],
   "source": [
    "%matplotlib inline\n",
    "import numpy as np\n",
    "import matplotlib.pyplot as plt\n",
    "\n",
    "def secant(fn,x1,x2,tol,maxiter):\n",
    "    for iteration in range(maxiter):\n",
    "        xnew = x2 - (x2-x1)/(fn(x2)-fn(x1)) * fn(x2)\n",
    "        if (abs(xnew-x2)<tol): break\n",
    "        else :\n",
    "            x1 = x2\n",
    "            x2 = xnew\n",
    "    else:\n",
    "        print(\"maximum number of iterations is reached\")\n",
    "    return xnew, iteration\n",
    "\n",
    "f = lambda x: x**3 - 2*(x**2) - 5\n",
    "x1 = float(input(\"masukkan x1 = \"))\n",
    "x2 = float(input(\"masukkan x2 = \"))\n",
    "\n",
    "r,n = secant(f,x1,x2,0.000001,100)\n",
    "\n",
    "print(\"Root = %f di iterasi ke %d\", (r,n))"
   ]
  }
 ],
 "metadata": {
  "kernelspec": {
   "display_name": "Python 3",
   "language": "python",
   "name": "python3"
  },
  "language_info": {
   "codemirror_mode": {
    "name": "ipython",
    "version": 3
   },
   "file_extension": ".py",
   "mimetype": "text/x-python",
   "name": "python",
   "nbconvert_exporter": "python",
   "pygments_lexer": "ipython3",
   "version": "3.8.3"
  }
 },
 "nbformat": 4,
 "nbformat_minor": 4
}
